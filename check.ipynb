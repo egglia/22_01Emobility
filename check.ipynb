{
 "cells": [
  {
   "cell_type": "code",
   "execution_count": 1,
   "metadata": {},
   "outputs": [],
   "source": [
    "import pandas as pd\n",
    "import numpy as np"
   ]
  },
  {
   "cell_type": "code",
   "execution_count": 2,
   "metadata": {},
   "outputs": [],
   "source": [
    "tariffs = pd.read_csv('data/01_raw/Ht_nt_times.csv', sep=',')\n",
    "columns = [\"hthrswd\", \"hthrssat\", \"hthrsso\"]\n",
    "for column in columns:\n",
    "    tariffs[column] = tariffs[column].str.split(\";\")\n",
    "tariffs = tariffs.melt(\n",
    "    id_vars=\"timetariffId\",\n",
    "    value_name=\"Hour\",\n",
    "    var_name=\"WeekdayType\"\n",
    ")\n",
    "tariffs = tariffs.dropna(subset=[\"Hour\"])\n",
    "tariffs[\"WeekdayType\"] = tariffs[\"WeekdayType\"].map(\n",
    "    {\n",
    "        \"hthrswd\": \"Weekday\",\n",
    "        \"hthrssat\": \"Saturday\",\n",
    "        \"hthrsso\": \"Sunday\"\n",
    "    }\n",
    ")\n",
    "tariffs = tariffs.explode(\"Hour\")\n",
    "tariffs[\"Hour\"] = pd.to_numeric(tariffs[\"Hour\"].str.split(\":00\", expand=True)[0], downcast=\"integer\")\n",
    "tariffs[\"IsHighTariff\"] = True"
   ]
  },
  {
   "cell_type": "code",
   "execution_count": 3,
   "metadata": {},
   "outputs": [],
   "source": [
    "df_mfh = pd.read_csv('data/01_raw/charging_data_mfh.csv')\n",
    "df_mfh[\"chargerType\"] = \"MFH\"\n",
    "df_work = pd.read_csv('data/01_raw/charging_data_work.csv')\n",
    "df_work[\"chargerType\"] = \"Work\"\n",
    "df_poi = pd.read_csv('data/01_raw/charging_data_poi.csv')\n",
    "df_poi[\"chargerType\"] = \"POI\"\n",
    "df_chargers = pd.concat([df_mfh, df_work, df_poi], ignore_index=True)\n",
    "df_chargers[\"timestamp\"] = pd.to_datetime(df_chargers[\"timestamp\"], utc=True)\n",
    "df_chargers[\"timestamp\"] = df_chargers[\"timestamp\"].dt.tz_convert(\"Europe/Zurich\")\n",
    "df_chargers[\"chargeLogId\"] = df_chargers.groupby([\"charge_log_id\", \"chargerType\"]).ngroup()\n",
    "df_chargers = df_chargers.sort_values([\"chargeLogId\", \"timestamp\"])\n",
    "df_chargers[\"Hour\"] = df_chargers[\"timestamp\"].dt.hour\n",
    "df_chargers[\"Weekday\"] = df_chargers[\"timestamp\"].dt.day_name()\n",
    "df_chargers[\"Month\"] = df_chargers[\"timestamp\"].dt.month\n",
    "df_chargers[\"WeekdayType\"] = np.where(\n",
    "    df_chargers[\"Weekday\"].isin([\"Saturday\", \"Sunday\"]),\n",
    "    df_chargers[\"Weekday\"],\n",
    "    \"Weekday\"\n",
    ")\n",
    "df_chargers = df_chargers.merge(tariffs, how=\"left\")\n",
    "df_chargers[\"IsHighTariff\"] = df_chargers[\"IsHighTariff\"].fillna(False)"
   ]
  },
  {
   "cell_type": "code",
   "execution_count": 4,
   "metadata": {},
   "outputs": [],
   "source": [
    "df_chargers[\"plugInTime\"] = df_chargers.groupby(\"chargeLogId\")[\"timestamp\"].transform(\"min\")\n",
    "df_chargers[\"plugOutTime\"] = df_chargers.groupby(\"chargeLogId\")[\"timestamp\"].transform(\"max\")"
   ]
  },
  {
   "cell_type": "code",
   "execution_count": 5,
   "metadata": {},
   "outputs": [],
   "source": [
    "non_zero_chargers = df_chargers.query(\"increment > 0\").reset_index(drop=True)\n",
    "non_zero_chargers[\"chargeStartTime\"] = non_zero_chargers.groupby(\"chargeLogId\")[\"timestamp\"].transform(\"min\")\n",
    "non_zero_chargers[\"chargeEndTime\"] = non_zero_chargers.groupby(\"chargeLogId\")[\"timestamp\"].transform(\"max\")\n",
    "non_zero_chargers = non_zero_chargers[[\"chargeLogId\", \"chargeStartTime\", \"chargeEndTime\"]]\n",
    "non_zero_chargers = non_zero_chargers.drop_duplicates(subset=[\"chargeLogId\"])"
   ]
  },
  {
   "cell_type": "code",
   "execution_count": 6,
   "metadata": {},
   "outputs": [],
   "source": [
    "df_chargers = df_chargers.merge(non_zero_chargers, how=\"left\")"
   ]
  },
  {
   "cell_type": "code",
   "execution_count": null,
   "metadata": {},
   "outputs": [],
   "source": [
    "df_chargers.to_csv(\"data/02_cleaned/cleaned_data.csv\", index=False)"
   ]
  },
  {
   "cell_type": "code",
   "execution_count": null,
   "metadata": {},
   "outputs": [],
   "source": []
  }
 ],
 "metadata": {
  "interpreter": {
   "hash": "b10a7cbd0015f60c198fde01e1b749cdd152fc5b962daa15955695435f3a5051"
  },
  "kernelspec": {
   "display_name": "Python 3 (ipykernel)",
   "language": "python",
   "name": "python3"
  },
  "language_info": {
   "codemirror_mode": {
    "name": "ipython",
    "version": 3
   },
   "file_extension": ".py",
   "mimetype": "text/x-python",
   "name": "python",
   "nbconvert_exporter": "python",
   "pygments_lexer": "ipython3",
   "version": "3.9.13"
  }
 },
 "nbformat": 4,
 "nbformat_minor": 4
}
